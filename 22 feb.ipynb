{
 "cells": [
  {
   "cell_type": "code",
   "execution_count": 1,
   "id": "476faad2-629a-495d-ad0b-d437400eada9",
   "metadata": {},
   "outputs": [],
   "source": [
    "# Q1. Create a Pandas Series that contains the following data: 4, 8, 15, 16, 23, and 42. Then, print the series.\n",
    "\n",
    "# Q2. Create a variable of list type containing 10 elements in it, and apply pandas.Series function on the \n",
    "# variable print it.\n",
    "\n",
    "# Q3. Create a Pandas DataFrame that contains the following data:\n",
    "    \n",
    "#     Name       Age        Gender   \n",
    "#     Alice      25         Female\n",
    "#     Bob        30         Male\n",
    "#     Claire     27         Female\n",
    "    \n",
    "# Then, print the DataFrame.\n",
    "\n",
    "# Q4. What is ‘DataFrame’ in pandas and how is it different from pandas.series? Explain with an example.\n",
    "\n",
    "# Q5. What are some common functions you can use to manipulate data in a Pandas DataFrame? Can \n",
    "# you give an example of when you might use one of these functions?\n",
    "\n",
    "# Q6. Which of the following is mutable in nature Series, DataFrame, Panel?\n",
    "\n",
    "# Q7. Create a DataFrame using multiple Series. Explain with an example"
   ]
  },
  {
   "cell_type": "code",
   "execution_count": null,
   "id": "28c40e48-1769-445c-a130-e1cf03a61cf4",
   "metadata": {},
   "outputs": [],
   "source": [
    "# Q1. Create a Pandas Series that contains the following data: 4, 8, 15, 16, 23, and 42. Then, print the series."
   ]
  },
  {
   "cell_type": "code",
   "execution_count": 2,
   "id": "3100940a-58ad-4cdb-bedd-b585c158f7c0",
   "metadata": {},
   "outputs": [
    {
     "name": "stdout",
     "output_type": "stream",
     "text": [
      "0     4\n",
      "1     8\n",
      "2    15\n",
      "3    16\n",
      "4    23\n",
      "5    42\n",
      "dtype: int64\n"
     ]
    }
   ],
   "source": [
    "import pandas as pd\n",
    "\n",
    "# create a Pandas Series\n",
    "data = pd.Series([4, 8, 15, 16, 23, 42])\n",
    "\n",
    "# print the Series\n",
    "print(data)\n"
   ]
  },
  {
   "cell_type": "code",
   "execution_count": 3,
   "id": "37e85dc7-fdcb-452a-a2f0-792219a4fd65",
   "metadata": {},
   "outputs": [],
   "source": [
    "# Q2. Create a variable of list type containing 10 elements in it, and apply pandas.Series function on the \n",
    "# variable print it."
   ]
  },
  {
   "cell_type": "code",
   "execution_count": 4,
   "id": "03def3eb-0ed5-433a-ad71-d43be006f7f0",
   "metadata": {},
   "outputs": [
    {
     "name": "stdout",
     "output_type": "stream",
     "text": [
      "0     1\n",
      "1     2\n",
      "2     3\n",
      "3     4\n",
      "4     5\n",
      "5     6\n",
      "6     7\n",
      "7     8\n",
      "8     9\n",
      "9    10\n",
      "dtype: int64\n"
     ]
    }
   ],
   "source": [
    "import pandas as pd\n",
    "\n",
    "# create a list variable\n",
    "my_list = [1, 2, 3, 4, 5, 6, 7, 8, 9, 10]\n",
    "\n",
    "# create a Pandas Series\n",
    "my_series = pd.Series(my_list)\n",
    "\n",
    "# print the Series\n",
    "print(my_series)\n"
   ]
  },
  {
   "cell_type": "code",
   "execution_count": 5,
   "id": "a291d9fc-00f9-4b13-959a-fbc794d4cd22",
   "metadata": {},
   "outputs": [],
   "source": [
    "# Q3. Create a Pandas DataFrame that contains the following data:\n",
    "    \n",
    "#     Name       Age        Gender   \n",
    "#     Alice      25         Female\n",
    "#     Bob        30         Male\n",
    "#     Claire     27         Female\n",
    "    \n",
    "# Then, print the DataFrame."
   ]
  },
  {
   "cell_type": "code",
   "execution_count": 7,
   "id": "89417dc8-8bc4-4306-9bca-68e70aff2ee8",
   "metadata": {},
   "outputs": [
    {
     "name": "stdout",
     "output_type": "stream",
     "text": [
      "     Name  Age  Gender\n",
      "0   Alice   25  Female\n",
      "1     Bob   30    Male\n",
      "2  Claire   27  Female\n"
     ]
    }
   ],
   "source": [
    "import pandas as pd\n",
    "\n",
    "# create a dictionary with the given data\n",
    "data = {'Name': ['Alice', 'Bob', 'Claire'],\n",
    "        'Age': [25, 30, 27],\n",
    "        'Gender': ['Female', 'Male', 'Female']}\n",
    "\n",
    "# create a Pandas DataFrame\n",
    "df = pd.DataFrame(data)\n",
    "\n",
    "# print the DataFrame\n",
    "print(df)\n"
   ]
  },
  {
   "cell_type": "code",
   "execution_count": 8,
   "id": "5769dc5c-3fdd-47aa-ba8c-355e2f5d8252",
   "metadata": {},
   "outputs": [],
   "source": [
    "# Q4. What is ‘DataFrame’ in pandas and how is it different from pandas.series? Explain with an example."
   ]
  },
  {
   "cell_type": "code",
   "execution_count": 9,
   "id": "64248f2a-c449-47ba-bc93-0c3ae040655d",
   "metadata": {},
   "outputs": [
    {
     "name": "stdout",
     "output_type": "stream",
     "text": [
      "0     4\n",
      "1     8\n",
      "2    15\n",
      "3    16\n",
      "4    23\n",
      "5    42\n",
      "dtype: int64\n",
      "   Numbers  Colors\n",
      "0        4     Red\n",
      "1        8   Green\n",
      "2       15    Blue\n",
      "3       16  Yellow\n",
      "4       23   Black\n",
      "5       42   White\n"
     ]
    }
   ],
   "source": [
    "# The main difference between a Pandas DataFrame and a Pandas Series is that a DataFrame can store and manipulate data in 2 dimensions (rows and columns),\n",
    "# while a Series can only store and manipulate data in 1 dimension (rows). A DataFrame is essentially a collection of Series objects that share the same index.\n",
    "\n",
    "# Here's an example that illustrates the difference between a Pandas Series and a Pandas DataFrame:\n",
    "\n",
    "import pandas as pd\n",
    "\n",
    "# create a Pandas Series\n",
    "series_data = pd.Series([4, 8, 15, 16, 23, 42])\n",
    "\n",
    "# create a Pandas DataFrame\n",
    "df_data = pd.DataFrame({'Numbers': [4, 8, 15, 16, 23, 42], \n",
    "                        'Colors': ['Red', 'Green', 'Blue', 'Yellow', 'Black', 'White']})\n",
    "\n",
    "# print the Series\n",
    "print(series_data)\n",
    "\n",
    "# print the DataFrame\n",
    "print(df_data)\n"
   ]
  },
  {
   "cell_type": "code",
   "execution_count": 10,
   "id": "3f1ad794-b049-4da5-a512-d83a866a2567",
   "metadata": {},
   "outputs": [],
   "source": [
    "# In this example, series_data is a Pandas Series that contains 6 numbers. It has only one column, and each number is assigned an index number automatically by Pandas.\n",
    "\n",
    "# On the other hand, df_data is a Pandas DataFrame that also contains the same 6 numbers, but this time, each number is paired with a color in a separate column.\n",
    "# The first column is named \"Numbers\", and the second column is named \"Colors\". Each row in the DataFrame represents a separate data point, and each column represents a different variable\n",
    "# The DataFrame also has its own index, which is assigned by Pandas by default."
   ]
  },
  {
   "cell_type": "code",
   "execution_count": 11,
   "id": "0806b917-cb76-44d0-b712-ae88697510c5",
   "metadata": {},
   "outputs": [],
   "source": [
    "# Q5. What are some common functions you can use to manipulate data in a Pandas DataFrame? Can \n",
    "# you give an example of when you might use one of these functions?"
   ]
  },
  {
   "cell_type": "code",
   "execution_count": 15,
   "id": "00dbc489-2cdf-4e0d-afcb-3fd977f589a9",
   "metadata": {},
   "outputs": [
    {
     "name": "stdout",
     "output_type": "stream",
     "text": [
      "          A         B\n",
      "0  1.000000  5.000000\n",
      "1  2.000000  6.666667\n",
      "2  2.333333  7.000000\n",
      "3  4.000000  8.000000\n"
     ]
    }
   ],
   "source": [
    "# Pandas provides a wide range of functions to manipulate data in a DataFrame. Some of the common functions are:\n",
    "\n",
    "# head(): This function returns the first n rows of the DataFrame. It is useful to quickly inspect the data.\n",
    "\n",
    "# tail(): This function returns the last n rows of the DataFrame. It is useful to quickly inspect the end of the data.\n",
    "\n",
    "# describe(): This function returns a summary of statistics for each numerical column in the DataFrame, including count, mean, standard deviation, minimum, and maximum values. \n",
    "# It is useful to get a quick overview of the data.\n",
    "\n",
    "# info(): This function provides a summary of the DataFrame's metadata, including the number of non-null values, data types, and memory usage. \n",
    "# It is useful to check the data types and the amount of memory used by the DataFrame.\n",
    "\n",
    "# drop(): This function allows you to remove one or more rows or columns from the DataFrame. It is useful to remove unnecessary columns or rows that contain missing or incorrect data.\n",
    "\n",
    "# fillna(): This function allows you to fill missing values in the DataFrame with a specified value or method. It is useful to handle missing data.\n",
    "\n",
    "# groupby(): This function allows you to group the data in the DataFrame by one or more columns and perform an aggregate function on each group. \n",
    "# It is useful to perform data aggregation and analysis.\n",
    "\n",
    "# sort_values(): This function allows you to sort the DataFrame by one or more columns. It is useful to sort the data in a particular order.\n",
    "\n",
    "# pivot_table(): This function allows you to create a pivot table from the DataFrame, which is useful for summarizing data and performing analysis.\n",
    "\n",
    "# For example, you might use the fillna() function to fill missing values in a DataFrame with the mean of the column\n",
    "\n",
    "\n",
    "import pandas as pd\n",
    "\n",
    "# create a DataFrame with missing values\n",
    "df = pd.DataFrame({'A': [1, 2, None, 4],\n",
    "                   'B': [5, None, 7, 8]})\n",
    "\n",
    "# fill missing values in column A & B with the mean\n",
    "df['A'] = df['A'].fillna(df['A'].mean())\n",
    "df['B'] = df['B'].fillna(df['B'].mean())\n",
    "# show the resulting DataFrame\n",
    "print(df)\n"
   ]
  },
  {
   "cell_type": "code",
   "execution_count": 16,
   "id": "4762311c-f4e4-4d00-b5cd-aa4892c2325e",
   "metadata": {},
   "outputs": [],
   "source": [
    "# Q6. Which of the following is mutable in nature Series, DataFrame, Panel?"
   ]
  },
  {
   "cell_type": "code",
   "execution_count": 17,
   "id": "502f71af-fbb0-4a21-82e6-7e524dc27cc8",
   "metadata": {},
   "outputs": [],
   "source": [
    "# In pandas library, both Series and DataFrame are mutable in nature, which means their values can be changed after they are created. \n",
    "# However, Panel is deprecated since version 0.25.0 and its functionalities have been moved to other parts of the library."
   ]
  },
  {
   "cell_type": "code",
   "execution_count": 18,
   "id": "a9f1faab-7f4c-4946-ba08-6b149ceb5431",
   "metadata": {},
   "outputs": [],
   "source": [
    "# Q7. Create a DataFrame using multiple Series. Explain with an example"
   ]
  },
  {
   "cell_type": "code",
   "execution_count": 19,
   "id": "fa8680d7-f31a-4244-9fc1-07374bc55add",
   "metadata": {},
   "outputs": [
    {
     "name": "stdout",
     "output_type": "stream",
     "text": [
      "      Name  Age      City\n",
      "0    Alice   25  New York\n",
      "1      Bob   30    London\n",
      "2  Charlie   35     Paris\n",
      "3    David   40     Tokyo\n"
     ]
    }
   ],
   "source": [
    "# To create a DataFrame using multiple Series in pandas, we can pass a dictionary where the keys represent the column names and the values are the Series. Here's an example\n",
    "\n",
    "import pandas as pd\n",
    "\n",
    "# create the Series\n",
    "names = pd.Series(['Alice', 'Bob', 'Charlie', 'David'])\n",
    "ages = pd.Series([25, 30, 35, 40])\n",
    "cities = pd.Series(['New York', 'London', 'Paris', 'Tokyo'])\n",
    "\n",
    "# create the DataFrame using a dictionary\n",
    "df = pd.DataFrame({'Name': names, 'Age': ages, 'City': cities})\n",
    "\n",
    "# print the DataFrame\n",
    "print(df)\n"
   ]
  },
  {
   "cell_type": "code",
   "execution_count": null,
   "id": "13df5180-e102-4e94-84f8-ea6c33737f74",
   "metadata": {},
   "outputs": [],
   "source": []
  }
 ],
 "metadata": {
  "kernelspec": {
   "display_name": "Python 3 (ipykernel)",
   "language": "python",
   "name": "python3"
  },
  "language_info": {
   "codemirror_mode": {
    "name": "ipython",
    "version": 3
   },
   "file_extension": ".py",
   "mimetype": "text/x-python",
   "name": "python",
   "nbconvert_exporter": "python",
   "pygments_lexer": "ipython3",
   "version": "3.10.8"
  }
 },
 "nbformat": 4,
 "nbformat_minor": 5
}
